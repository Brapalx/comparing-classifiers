{
 "cells": [
  {
   "cell_type": "code",
   "execution_count": 1,
   "id": "2bede8be-e151-4cbb-83a6-c43923092221",
   "metadata": {},
   "outputs": [],
   "source": [
    "import pandas as pd\n",
    "import seaborn as sns\n",
    "from sklearn.datasets import load_breast_cancer\n",
    "from sklearn.linear_model import LogisticRegression\n",
    "from sklearn.neighbors import KNeighborsClassifier\n",
    "from sklearn.svm import SVC\n",
    "from sklearn.tree import DecisionTreeClassifier, export_text, plot_tree\n",
    "from sklearn.model_selection import train_test_split, GridSearchCV, RandomizedSearchCV\n",
    "import matplotlib.pyplot as plt\n",
    "import seaborn as sns"
   ]
  },
  {
   "cell_type": "markdown",
   "id": "9812cee1-2ded-4662-b9e3-22cb84d8ea47",
   "metadata": {},
   "source": [
    "### Data Exploration"
   ]
  },
  {
   "cell_type": "code",
   "execution_count": 3,
   "id": "0a11f798-bab0-42b9-8b98-4381f9dc76e7",
   "metadata": {},
   "outputs": [
    {
     "name": "stdout",
     "output_type": "stream",
     "text": [
      "<class 'pandas.core.frame.DataFrame'>\n",
      "RangeIndex: 45211 entries, 0 to 45210\n",
      "Data columns (total 17 columns):\n",
      " #   Column     Non-Null Count  Dtype \n",
      "---  ------     --------------  ----- \n",
      " 0   age        45211 non-null  int64 \n",
      " 1   job        45211 non-null  object\n",
      " 2   marital    45211 non-null  object\n",
      " 3   education  45211 non-null  object\n",
      " 4   default    45211 non-null  object\n",
      " 5   balance    45211 non-null  int64 \n",
      " 6   housing    45211 non-null  object\n",
      " 7   loan       45211 non-null  object\n",
      " 8   contact    45211 non-null  object\n",
      " 9   day        45211 non-null  int64 \n",
      " 10  month      45211 non-null  object\n",
      " 11  duration   45211 non-null  int64 \n",
      " 12  campaign   45211 non-null  int64 \n",
      " 13  pdays      45211 non-null  int64 \n",
      " 14  previous   45211 non-null  int64 \n",
      " 15  poutcome   45211 non-null  object\n",
      " 16  y          45211 non-null  object\n",
      "dtypes: int64(7), object(10)\n",
      "memory usage: 5.9+ MB\n"
     ]
    }
   ],
   "source": [
    "# reading bank data into dataframe\n",
    "df = pd.read_csv('data/bank-full.csv', delimiter=';')\n",
    "df.info()"
   ]
  },
  {
   "cell_type": "code",
   "execution_count": 4,
   "id": "39ea1699-cf0d-4a9d-bd43-823cbde8b905",
   "metadata": {},
   "outputs": [
    {
     "data": {
      "text/html": [
       "<div>\n",
       "<style scoped>\n",
       "    .dataframe tbody tr th:only-of-type {\n",
       "        vertical-align: middle;\n",
       "    }\n",
       "\n",
       "    .dataframe tbody tr th {\n",
       "        vertical-align: top;\n",
       "    }\n",
       "\n",
       "    .dataframe thead th {\n",
       "        text-align: right;\n",
       "    }\n",
       "</style>\n",
       "<table border=\"1\" class=\"dataframe\">\n",
       "  <thead>\n",
       "    <tr style=\"text-align: right;\">\n",
       "      <th></th>\n",
       "      <th>age</th>\n",
       "      <th>job</th>\n",
       "      <th>marital</th>\n",
       "      <th>education</th>\n",
       "      <th>default</th>\n",
       "      <th>balance</th>\n",
       "      <th>housing</th>\n",
       "      <th>loan</th>\n",
       "      <th>contact</th>\n",
       "      <th>day</th>\n",
       "      <th>month</th>\n",
       "      <th>duration</th>\n",
       "      <th>campaign</th>\n",
       "      <th>pdays</th>\n",
       "      <th>previous</th>\n",
       "      <th>poutcome</th>\n",
       "      <th>y</th>\n",
       "    </tr>\n",
       "  </thead>\n",
       "  <tbody>\n",
       "    <tr>\n",
       "      <th>0</th>\n",
       "      <td>58</td>\n",
       "      <td>management</td>\n",
       "      <td>married</td>\n",
       "      <td>tertiary</td>\n",
       "      <td>no</td>\n",
       "      <td>2143</td>\n",
       "      <td>yes</td>\n",
       "      <td>no</td>\n",
       "      <td>unknown</td>\n",
       "      <td>5</td>\n",
       "      <td>may</td>\n",
       "      <td>261</td>\n",
       "      <td>1</td>\n",
       "      <td>-1</td>\n",
       "      <td>0</td>\n",
       "      <td>unknown</td>\n",
       "      <td>no</td>\n",
       "    </tr>\n",
       "    <tr>\n",
       "      <th>1</th>\n",
       "      <td>44</td>\n",
       "      <td>technician</td>\n",
       "      <td>single</td>\n",
       "      <td>secondary</td>\n",
       "      <td>no</td>\n",
       "      <td>29</td>\n",
       "      <td>yes</td>\n",
       "      <td>no</td>\n",
       "      <td>unknown</td>\n",
       "      <td>5</td>\n",
       "      <td>may</td>\n",
       "      <td>151</td>\n",
       "      <td>1</td>\n",
       "      <td>-1</td>\n",
       "      <td>0</td>\n",
       "      <td>unknown</td>\n",
       "      <td>no</td>\n",
       "    </tr>\n",
       "    <tr>\n",
       "      <th>2</th>\n",
       "      <td>33</td>\n",
       "      <td>entrepreneur</td>\n",
       "      <td>married</td>\n",
       "      <td>secondary</td>\n",
       "      <td>no</td>\n",
       "      <td>2</td>\n",
       "      <td>yes</td>\n",
       "      <td>yes</td>\n",
       "      <td>unknown</td>\n",
       "      <td>5</td>\n",
       "      <td>may</td>\n",
       "      <td>76</td>\n",
       "      <td>1</td>\n",
       "      <td>-1</td>\n",
       "      <td>0</td>\n",
       "      <td>unknown</td>\n",
       "      <td>no</td>\n",
       "    </tr>\n",
       "    <tr>\n",
       "      <th>3</th>\n",
       "      <td>47</td>\n",
       "      <td>blue-collar</td>\n",
       "      <td>married</td>\n",
       "      <td>unknown</td>\n",
       "      <td>no</td>\n",
       "      <td>1506</td>\n",
       "      <td>yes</td>\n",
       "      <td>no</td>\n",
       "      <td>unknown</td>\n",
       "      <td>5</td>\n",
       "      <td>may</td>\n",
       "      <td>92</td>\n",
       "      <td>1</td>\n",
       "      <td>-1</td>\n",
       "      <td>0</td>\n",
       "      <td>unknown</td>\n",
       "      <td>no</td>\n",
       "    </tr>\n",
       "    <tr>\n",
       "      <th>4</th>\n",
       "      <td>33</td>\n",
       "      <td>unknown</td>\n",
       "      <td>single</td>\n",
       "      <td>unknown</td>\n",
       "      <td>no</td>\n",
       "      <td>1</td>\n",
       "      <td>no</td>\n",
       "      <td>no</td>\n",
       "      <td>unknown</td>\n",
       "      <td>5</td>\n",
       "      <td>may</td>\n",
       "      <td>198</td>\n",
       "      <td>1</td>\n",
       "      <td>-1</td>\n",
       "      <td>0</td>\n",
       "      <td>unknown</td>\n",
       "      <td>no</td>\n",
       "    </tr>\n",
       "  </tbody>\n",
       "</table>\n",
       "</div>"
      ],
      "text/plain": [
       "   age           job  marital  education default  balance housing loan  \\\n",
       "0   58    management  married   tertiary      no     2143     yes   no   \n",
       "1   44    technician   single  secondary      no       29     yes   no   \n",
       "2   33  entrepreneur  married  secondary      no        2     yes  yes   \n",
       "3   47   blue-collar  married    unknown      no     1506     yes   no   \n",
       "4   33       unknown   single    unknown      no        1      no   no   \n",
       "\n",
       "   contact  day month  duration  campaign  pdays  previous poutcome   y  \n",
       "0  unknown    5   may       261         1     -1         0  unknown  no  \n",
       "1  unknown    5   may       151         1     -1         0  unknown  no  \n",
       "2  unknown    5   may        76         1     -1         0  unknown  no  \n",
       "3  unknown    5   may        92         1     -1         0  unknown  no  \n",
       "4  unknown    5   may       198         1     -1         0  unknown  no  "
      ]
     },
     "execution_count": 4,
     "metadata": {},
     "output_type": "execute_result"
    }
   ],
   "source": [
    "df.head()"
   ]
  },
  {
   "cell_type": "markdown",
   "id": "71f5d084-0ae0-4c81-94f9-96064e212860",
   "metadata": {},
   "source": [
    "Now we'll look at each object-type column to see how to turn it into numeric data"
   ]
  },
  {
   "cell_type": "code",
   "execution_count": 6,
   "id": "9bcd4c31-966b-46ec-920a-09469df2ea1b",
   "metadata": {},
   "outputs": [
    {
     "data": {
      "text/plain": [
       "job\n",
       "blue-collar      9732\n",
       "management       9458\n",
       "technician       7597\n",
       "admin.           5171\n",
       "services         4154\n",
       "retired          2264\n",
       "self-employed    1579\n",
       "entrepreneur     1487\n",
       "unemployed       1303\n",
       "housemaid        1240\n",
       "student           938\n",
       "unknown           288\n",
       "Name: count, dtype: int64"
      ]
     },
     "execution_count": 6,
     "metadata": {},
     "output_type": "execute_result"
    }
   ],
   "source": [
    "df['job'].value_counts()\n",
    "\n",
    "# keeping, turning into binary by splitting jobs into lower income (0) and higher income(1)"
   ]
  },
  {
   "cell_type": "code",
   "execution_count": 7,
   "id": "516ee77d-2215-49c0-839f-d70b76adef86",
   "metadata": {},
   "outputs": [
    {
     "data": {
      "text/plain": [
       "marital\n",
       "married     27214\n",
       "single      12790\n",
       "divorced     5207\n",
       "Name: count, dtype: int64"
      ]
     },
     "execution_count": 7,
     "metadata": {},
     "output_type": "execute_result"
    }
   ],
   "source": [
    "df['marital'].value_counts()\n",
    "\n",
    "# keeping, converting single and divorced into 0, and married into 1"
   ]
  },
  {
   "cell_type": "code",
   "execution_count": 8,
   "id": "235a787b-9775-4bb2-834e-5e134985e543",
   "metadata": {},
   "outputs": [
    {
     "data": {
      "text/plain": [
       "education\n",
       "secondary    23202\n",
       "tertiary     13301\n",
       "primary       6851\n",
       "unknown       1857\n",
       "Name: count, dtype: int64"
      ]
     },
     "execution_count": 8,
     "metadata": {},
     "output_type": "execute_result"
    }
   ],
   "source": [
    "df['education'].value_counts()\n",
    "\n",
    "# keeping, converting to ordinal (primary - 1, secondary - 2, tertiary - 3)"
   ]
  },
  {
   "cell_type": "code",
   "execution_count": 9,
   "id": "c6ac204d-b57a-4ef7-b6bd-149de5bd89d8",
   "metadata": {},
   "outputs": [
    {
     "data": {
      "text/plain": [
       "default\n",
       "no     44396\n",
       "yes      815\n",
       "Name: count, dtype: int64"
      ]
     },
     "execution_count": 9,
     "metadata": {},
     "output_type": "execute_result"
    }
   ],
   "source": [
    "df['default'].value_counts()\n",
    "\n",
    "# keeping, converting to binary"
   ]
  },
  {
   "cell_type": "code",
   "execution_count": 10,
   "id": "4f987db0-39a0-449a-ba48-865ad274b10a",
   "metadata": {},
   "outputs": [
    {
     "data": {
      "text/plain": [
       "housing\n",
       "yes    25130\n",
       "no     20081\n",
       "Name: count, dtype: int64"
      ]
     },
     "execution_count": 10,
     "metadata": {},
     "output_type": "execute_result"
    }
   ],
   "source": [
    "df['housing'].value_counts()\n",
    "\n",
    "# keeping, converting to binary"
   ]
  },
  {
   "cell_type": "code",
   "execution_count": 11,
   "id": "d9e13fe7-889c-4f3d-ba82-6d9565ef3fba",
   "metadata": {},
   "outputs": [
    {
     "data": {
      "text/plain": [
       "loan\n",
       "no     37967\n",
       "yes     7244\n",
       "Name: count, dtype: int64"
      ]
     },
     "execution_count": 11,
     "metadata": {},
     "output_type": "execute_result"
    }
   ],
   "source": [
    "df['loan'].value_counts()\n",
    "\n",
    "# keeping, converting to binary"
   ]
  },
  {
   "cell_type": "code",
   "execution_count": 12,
   "id": "9ca7d814-63a2-406f-b3be-be896fda273a",
   "metadata": {},
   "outputs": [],
   "source": [
    "# will remove contact, day, month and duration columns. All of these are related to each other and they can't really be combined into a single column."
   ]
  },
  {
   "cell_type": "code",
   "execution_count": 13,
   "id": "1451721c-50c9-4578-9b1c-c21928111dd5",
   "metadata": {},
   "outputs": [
    {
     "data": {
      "text/plain": [
       "poutcome\n",
       "unknown    36959\n",
       "failure     4901\n",
       "other       1840\n",
       "success     1511\n",
       "Name: count, dtype: int64"
      ]
     },
     "execution_count": 13,
     "metadata": {},
     "output_type": "execute_result"
    }
   ],
   "source": [
    "df['poutcome'].value_counts()\n",
    "\n",
    "# removing, too many unknown values"
   ]
  },
  {
   "cell_type": "code",
   "execution_count": 14,
   "id": "264a91b9-00c2-49b8-9dd5-3b364e8fbfc2",
   "metadata": {},
   "outputs": [
    {
     "data": {
      "text/plain": [
       "y\n",
       "no     39922\n",
       "yes     5289\n",
       "Name: count, dtype: int64"
      ]
     },
     "execution_count": 14,
     "metadata": {},
     "output_type": "execute_result"
    }
   ],
   "source": [
    "df['y'].value_counts()\n",
    "\n",
    "# target, converting to binary"
   ]
  },
  {
   "cell_type": "markdown",
   "id": "756c8ba5-51fd-4948-96ea-31324c3228ca",
   "metadata": {},
   "source": [
    "### Data Preparation"
   ]
  },
  {
   "cell_type": "code",
   "execution_count": 16,
   "id": "ff013f98-79e1-4be3-b62d-1419ef36881c",
   "metadata": {},
   "outputs": [],
   "source": [
    "# removing rows with unknown values\n",
    "df = df.loc[df['job'] != 'unknown'] \n",
    "df = df.loc[df['education'] != 'unknown'] "
   ]
  },
  {
   "cell_type": "code",
   "execution_count": 17,
   "id": "dfb38e44-d01b-4aac-bd96-2963f6e74aa1",
   "metadata": {},
   "outputs": [],
   "source": [
    "# removing undesired columns\n",
    "to_remove = ['contact', 'day', 'month', 'duration', 'poutcome']\n",
    "df = df.drop(columns=to_remove)"
   ]
  },
  {
   "cell_type": "code",
   "execution_count": 18,
   "id": "2fe02ccf-b769-4ba6-b038-9217875bc7be",
   "metadata": {},
   "outputs": [],
   "source": [
    "# mapping values to binary, and education to ordinal\n",
    "df['job'] = df['job'].map({'blue-collar': 0, 'services': 0, 'retired': 0, 'unemployed': 0, 'housemaid': 0, 'student': 0, 'management': 1, \n",
    "                           'technician': 1, 'admin.': 1, 'self-employed': 1, 'entrepreneur': 1})\n",
    "df['marital'] = df['marital'].map({'single': 0, 'divorced': 0, 'married': 1})\n",
    "df['education'] = df['education'].map({'primary': 1, 'secondary': 2, 'tertiary': 3})\n",
    "df['default'] = df['default'].map({'no': 0, 'yes': 1})\n",
    "df['housing'] = df['housing'].map({'no': 0, 'yes': 1})\n",
    "df['loan'] = df['loan'].map({'no': 0, 'yes': 1})\n",
    "df['y'] = df['y'].map({'no': 0, 'yes': 1})"
   ]
  },
  {
   "cell_type": "code",
   "execution_count": 19,
   "id": "2bacc4e9-3334-4744-91b7-a75730186a14",
   "metadata": {},
   "outputs": [
    {
     "name": "stdout",
     "output_type": "stream",
     "text": [
      "<class 'pandas.core.frame.DataFrame'>\n",
      "Index: 43193 entries, 0 to 45210\n",
      "Data columns (total 12 columns):\n",
      " #   Column     Non-Null Count  Dtype\n",
      "---  ------     --------------  -----\n",
      " 0   age        43193 non-null  int64\n",
      " 1   job        43193 non-null  int64\n",
      " 2   marital    43193 non-null  int64\n",
      " 3   education  43193 non-null  int64\n",
      " 4   default    43193 non-null  int64\n",
      " 5   balance    43193 non-null  int64\n",
      " 6   housing    43193 non-null  int64\n",
      " 7   loan       43193 non-null  int64\n",
      " 8   campaign   43193 non-null  int64\n",
      " 9   pdays      43193 non-null  int64\n",
      " 10  previous   43193 non-null  int64\n",
      " 11  y          43193 non-null  int64\n",
      "dtypes: int64(12)\n",
      "memory usage: 4.3 MB\n"
     ]
    }
   ],
   "source": [
    "# final dataframe to be used for modelling\n",
    "df.info()"
   ]
  },
  {
   "cell_type": "code",
   "execution_count": 20,
   "id": "a30dc37c-60e3-4b57-9be6-7ae1de49b4ed",
   "metadata": {},
   "outputs": [],
   "source": [
    "# setting features and target variable\n",
    "X = df.drop('y', axis=1)\n",
    "y = df['y']"
   ]
  },
  {
   "cell_type": "code",
   "execution_count": 21,
   "id": "919376b4-bbe8-4a15-ad48-5926ae219620",
   "metadata": {},
   "outputs": [],
   "source": [
    "# splitting train and test data, default 0.3 test size\n",
    "X_train, X_test, y_train, y_test = train_test_split(X, y, test_size=0.3)"
   ]
  },
  {
   "cell_type": "markdown",
   "id": "af330c45-fc7d-4db3-bded-b41cdd0bf134",
   "metadata": {},
   "source": [
    "### Modelling and Testing"
   ]
  },
  {
   "cell_type": "markdown",
   "id": "46cf8ee2-3684-46b1-9957-02c554c7dcb4",
   "metadata": {},
   "source": [
    "We will fit the train data into all four classifier and test them against the training and test sets. Fit times and testing times will be measured."
   ]
  },
  {
   "cell_type": "code",
   "execution_count": 24,
   "id": "b0ab9dec-65a1-4605-8886-e7179622e873",
   "metadata": {},
   "outputs": [
    {
     "name": "stdout",
     "output_type": "stream",
     "text": [
      "CPU times: total: 12 s\n",
      "Wall time: 4.51 s\n"
     ]
    }
   ],
   "source": [
    "%%time\n",
    "lr = LogisticRegression(max_iter=10000).fit(X_train, y_train)"
   ]
  },
  {
   "cell_type": "code",
   "execution_count": 25,
   "id": "721674e1-2aee-4dda-aae6-f1a0a237a626",
   "metadata": {},
   "outputs": [
    {
     "name": "stdout",
     "output_type": "stream",
     "text": [
      "0.8830825202579792\n"
     ]
    }
   ],
   "source": [
    "lr_train = lr.score(X_train, y_train)\n",
    "print(lr_train)"
   ]
  },
  {
   "cell_type": "code",
   "execution_count": 26,
   "id": "a6c71422-18ac-43d4-85e6-1f37cab5b8af",
   "metadata": {},
   "outputs": [
    {
     "name": "stdout",
     "output_type": "stream",
     "text": [
      "0.8835468436487112\n",
      "CPU times: total: 0 ns\n",
      "Wall time: 4.99 ms\n"
     ]
    }
   ],
   "source": [
    "%%time\n",
    "lr_test = lr.score(X_test, y_test)\n",
    "print(lr_test)"
   ]
  },
  {
   "cell_type": "code",
   "execution_count": 27,
   "id": "922aad7c-d9c3-4f9b-9778-53ef39f6347a",
   "metadata": {},
   "outputs": [
    {
     "name": "stdout",
     "output_type": "stream",
     "text": [
      "CPU times: total: 125 ms\n",
      "Wall time: 68.9 ms\n"
     ]
    }
   ],
   "source": [
    "%%time\n",
    "knn = KNeighborsClassifier().fit(X_train, y_train)"
   ]
  },
  {
   "cell_type": "code",
   "execution_count": 28,
   "id": "10a6d621-1302-492e-8e18-21a7dad29328",
   "metadata": {},
   "outputs": [
    {
     "name": "stdout",
     "output_type": "stream",
     "text": [
      "0.8970398544732926\n"
     ]
    }
   ],
   "source": [
    "knn_train = knn.score(X_train, y_train)\n",
    "print(knn_train)"
   ]
  },
  {
   "cell_type": "code",
   "execution_count": 29,
   "id": "31973860-86b2-400b-b56d-57313d9df8ee",
   "metadata": {},
   "outputs": [
    {
     "name": "stdout",
     "output_type": "stream",
     "text": [
      "0.8765241549621855\n",
      "CPU times: total: 297 ms\n",
      "Wall time: 494 ms\n"
     ]
    }
   ],
   "source": [
    "%%time\n",
    "knn_test = knn.score(X_test, y_test)\n",
    "print(knn_test)"
   ]
  },
  {
   "cell_type": "code",
   "execution_count": 30,
   "id": "06eb2bec-901c-46d7-af27-4ccdaff369fd",
   "metadata": {},
   "outputs": [
    {
     "name": "stdout",
     "output_type": "stream",
     "text": [
      "CPU times: total: 4.83 s\n",
      "Wall time: 7.39 s\n"
     ]
    }
   ],
   "source": [
    "%%time\n",
    "svc = SVC().fit(X_train, y_train)"
   ]
  },
  {
   "cell_type": "code",
   "execution_count": 31,
   "id": "3abcc652-af50-4225-8ca0-9923768fa1fd",
   "metadata": {},
   "outputs": [
    {
     "name": "stdout",
     "output_type": "stream",
     "text": [
      "0.8837109310401852\n"
     ]
    }
   ],
   "source": [
    "svc_train = svc.score(X_train, y_train)\n",
    "print(svc_train)"
   ]
  },
  {
   "cell_type": "code",
   "execution_count": 32,
   "id": "e49bff1f-f672-4164-947d-235107e587ea",
   "metadata": {},
   "outputs": [
    {
     "name": "stdout",
     "output_type": "stream",
     "text": [
      "0.884009878067603\n",
      "CPU times: total: 4.34 s\n",
      "Wall time: 6.26 s\n"
     ]
    }
   ],
   "source": [
    "%%time\n",
    "svc_test = svc.score(X_test, y_test)\n",
    "print(svc_test)"
   ]
  },
  {
   "cell_type": "code",
   "execution_count": 33,
   "id": "5f1f681d-e054-4b52-bad3-55ba77df8053",
   "metadata": {},
   "outputs": [
    {
     "name": "stdout",
     "output_type": "stream",
     "text": [
      "CPU times: total: 78.1 ms\n",
      "Wall time: 101 ms\n"
     ]
    }
   ],
   "source": [
    "%%time\n",
    "dtree = DecisionTreeClassifier(random_state=42).fit(X_train, y_train)"
   ]
  },
  {
   "cell_type": "code",
   "execution_count": 34,
   "id": "d35e5b22-2759-4684-983f-b5f45cd223fa",
   "metadata": {},
   "outputs": [
    {
     "name": "stdout",
     "output_type": "stream",
     "text": [
      "0.998180916156772\n"
     ]
    }
   ],
   "source": [
    "dt_train = dtree.score(X_train, y_train)\n",
    "print(dt_train)"
   ]
  },
  {
   "cell_type": "code",
   "execution_count": 35,
   "id": "f88f75c3-9a94-4662-9b56-c2d24b33c80a",
   "metadata": {
    "scrolled": true
   },
   "outputs": [
    {
     "name": "stdout",
     "output_type": "stream",
     "text": [
      "0.8104645778669548\n",
      "CPU times: total: 0 ns\n",
      "Wall time: 6.49 ms\n"
     ]
    }
   ],
   "source": [
    "%%time\n",
    "dt_test = dtree.score(X_test, y_test)\n",
    "print(dt_test)"
   ]
  },
  {
   "cell_type": "markdown",
   "id": "72c3e92e-93fd-4e16-8cc3-9ce813bfe013",
   "metadata": {},
   "source": [
    "### Results"
   ]
  },
  {
   "cell_type": "code",
   "execution_count": 37,
   "id": "98a488c4-31bf-43ed-aa6e-c6806d66448a",
   "metadata": {},
   "outputs": [
    {
     "data": {
      "text/html": [
       "<div>\n",
       "<style scoped>\n",
       "    .dataframe tbody tr th:only-of-type {\n",
       "        vertical-align: middle;\n",
       "    }\n",
       "\n",
       "    .dataframe tbody tr th {\n",
       "        vertical-align: top;\n",
       "    }\n",
       "\n",
       "    .dataframe thead th {\n",
       "        text-align: right;\n",
       "    }\n",
       "</style>\n",
       "<table border=\"1\" class=\"dataframe\">\n",
       "  <thead>\n",
       "    <tr style=\"text-align: right;\">\n",
       "      <th></th>\n",
       "      <th>fit_time (ms)</th>\n",
       "      <th>test_time (ms)</th>\n",
       "      <th>train_acc</th>\n",
       "      <th>test_acc</th>\n",
       "    </tr>\n",
       "    <tr>\n",
       "      <th>classifier</th>\n",
       "      <th></th>\n",
       "      <th></th>\n",
       "      <th></th>\n",
       "      <th></th>\n",
       "    </tr>\n",
       "  </thead>\n",
       "  <tbody>\n",
       "    <tr>\n",
       "      <th>LogisticRegression</th>\n",
       "      <td>7360.0</td>\n",
       "      <td>0</td>\n",
       "      <td>0.883083</td>\n",
       "      <td>0.883547</td>\n",
       "    </tr>\n",
       "    <tr>\n",
       "      <th>KNearestNeighbors</th>\n",
       "      <td>93.8</td>\n",
       "      <td>281</td>\n",
       "      <td>0.897040</td>\n",
       "      <td>0.876524</td>\n",
       "    </tr>\n",
       "    <tr>\n",
       "      <th>SVMClassifier</th>\n",
       "      <td>4610.0</td>\n",
       "      <td>4420</td>\n",
       "      <td>0.883711</td>\n",
       "      <td>0.884010</td>\n",
       "    </tr>\n",
       "    <tr>\n",
       "      <th>DecisionTree</th>\n",
       "      <td>62.5</td>\n",
       "      <td>0</td>\n",
       "      <td>0.998181</td>\n",
       "      <td>0.810465</td>\n",
       "    </tr>\n",
       "  </tbody>\n",
       "</table>\n",
       "</div>"
      ],
      "text/plain": [
       "                    fit_time (ms)  test_time (ms)  train_acc  test_acc\n",
       "classifier                                                            \n",
       "LogisticRegression         7360.0               0   0.883083  0.883547\n",
       "KNearestNeighbors            93.8             281   0.897040  0.876524\n",
       "SVMClassifier              4610.0            4420   0.883711  0.884010\n",
       "DecisionTree                 62.5               0   0.998181  0.810465"
      ]
     },
     "execution_count": 37,
     "metadata": {},
     "output_type": "execute_result"
    }
   ],
   "source": [
    "# lists for dictionary\n",
    "labels = ['LogisticRegression', 'KNearestNeighbors', 'SVMClassifier', 'DecisionTree']\n",
    "train_accs = [lr_train, knn_train, svc_train, dt_train]\n",
    "test_accs = [lr_test, knn_test, svc_test, dt_test]\n",
    "fit_times = [7360, 93.8, 4610, 62.5] # in ms, hardcoded since %%time values cant be passed to a variable\n",
    "test_times = [0, 281, 4420, 0] # in ms, hardcoded since %%time values cant be passed to a variable\n",
    "# PC INFO: Intel Core i5-1140 @ 2.6 GHz\n",
    "\n",
    "results = {\n",
    "   'classifier': labels,\n",
    "    'fit_time (ms)': fit_times,\n",
    "    'test_time (ms)': test_times,\n",
    "    'train_acc': train_accs,\n",
    "    'test_acc': test_accs\n",
    "}\n",
    "\n",
    "# creating results dataframe from dictionary\n",
    "results_df = pd.DataFrame(results).set_index('classifier')\n",
    "results_df"
   ]
  },
  {
   "cell_type": "code",
   "execution_count": 38,
   "id": "918692eb-3ae1-4135-b5da-cff7cc808da0",
   "metadata": {},
   "outputs": [
    {
     "data": {
      "text/plain": [
       "Text(0, 0.5, 'Test Accuracy')"
      ]
     },
     "execution_count": 38,
     "metadata": {},
     "output_type": "execute_result"
    },
    {
     "data": {
      "image/png": "[encoded data removed]",
      "text/plain": [
       "<Figure size 640x480 with 1 Axes>"
      ]
     },
     "metadata": {},
     "output_type": "display_data"
    }
   ],
   "source": [
    "# plotting to find the classifier with the best fit time vs. test accuracy balance\n",
    "sns.scatterplot(x=fit_times, y=test_accs, hue=labels)\n",
    "plt.title('Fit Time vs. Test Accuracy')\n",
    "plt.xlabel('Fit Time (ms)')\n",
    "plt.ylabel('Test Accuracy')"
   ]
  },
  {
   "cell_type": "markdown",
   "id": "7f82d1e5-1edc-42b7-93f7-07b2080a698c",
   "metadata": {},
   "source": [
    "KNearestNeighbors is the best performing algorithm, with minimal fit time and only a very small penalty when it comes to test accuracy."
   ]
  }
 ],
 "metadata": {
  "kernelspec": {
   "display_name": "Python 3 (ipykernel)",
   "language": "python",
   "name": "python3"
  },
  "language_info": {
   "codemirror_mode": {
    "name": "ipython",
    "version": 3
   },
   "file_extension": ".py",
   "mimetype": "text/x-python",
   "name": "python",
   "nbconvert_exporter": "python",
   "pygments_lexer": "ipython3",
   "version": "3.12.4"
  }
 },
 "nbformat": 4,
 "nbformat_minor": 5
}
